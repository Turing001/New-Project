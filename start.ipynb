{
 "metadata": {
  "name": "",
  "signature": "sha256:bf135c7994de70e010e0f89f620eccb5b7a2f00cc01504e2046cd1358236ef97"
 },
 "nbformat": 3,
 "nbformat_minor": 0,
 "worksheets": [
  {
   "cells": [
    {
     "cell_type": "code",
     "collapsed": false,
     "input": [
      "class SumByThree(object):\n",
      "\n",
      "    def __init__(self, num, power):\n",
      "        self.num = num\n",
      "        self.power = power\n",
      "    def add_three(self):\n",
      "        for i in range(0,self.power):\n",
      "            self.num = self.num + 3\n",
      "        return self.num"
     ],
     "language": "python",
     "metadata": {},
     "outputs": [],
     "prompt_number": 35
    },
    {
     "cell_type": "code",
     "collapsed": false,
     "input": [
      "rookies = '2014-15 NBA Roster v0-3.json'"
     ],
     "language": "python",
     "metadata": {},
     "outputs": [],
     "prompt_number": 47
    },
    {
     "cell_type": "code",
     "collapsed": false,
     "input": [
      "import json"
     ],
     "language": "python",
     "metadata": {},
     "outputs": [],
     "prompt_number": 48
    },
    {
     "cell_type": "code",
     "collapsed": false,
     "input": [
      "stats = json.load(open(rookies, 'rb'))"
     ],
     "language": "python",
     "metadata": {},
     "outputs": [],
     "prompt_number": 77
    },
    {
     "cell_type": "code",
     "collapsed": false,
     "input": [
      "class GetWeight(object):\n",
      "    \n",
      "    def __init__(self, name):\n",
      "        self.name = name\n",
      "    def print_weight(self):\n",
      "        for i in range(0,100):\n",
      "            if self.name == stats['players'][i]['name']:\n",
      "                print stats['players'][i]['weight']\n",
      "                break\n",
      "    "
     ],
     "language": "python",
     "metadata": {},
     "outputs": [],
     "prompt_number": 115
    },
    {
     "cell_type": "code",
     "collapsed": false,
     "input": [
      "my_player = GetWeight(\"Kevin Looney\")\n",
      "print stats['players'][0]['weight']"
     ],
     "language": "python",
     "metadata": {},
     "outputs": [
      {
       "output_type": "stream",
       "stream": "stdout",
       "text": [
        "245\n"
       ]
      }
     ],
     "prompt_number": 116
    },
    {
     "cell_type": "code",
     "collapsed": false,
     "input": [
      "my_player.print_weight()"
     ],
     "language": "python",
     "metadata": {},
     "outputs": [
      {
       "output_type": "stream",
       "stream": "stdout",
       "text": [
        "220\n"
       ]
      }
     ],
     "prompt_number": 117
    },
    {
     "cell_type": "code",
     "collapsed": false,
     "input": [
      "print stats['players'][8]['name']"
     ],
     "language": "python",
     "metadata": {},
     "outputs": [
      {
       "output_type": "stream",
       "stream": "stdout",
       "text": [
        "Dwight Powell\n"
       ]
      }
     ],
     "prompt_number": 114
    },
    {
     "cell_type": "code",
     "collapsed": false,
     "input": [],
     "language": "python",
     "metadata": {},
     "outputs": []
    }
   ],
   "metadata": {}
  }
 ]
}